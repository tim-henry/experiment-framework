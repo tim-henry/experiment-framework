{
 "cells": [
  {
   "cell_type": "code",
   "execution_count": null,
   "metadata": {},
   "outputs": [
    {
     "name": "stderr",
     "output_type": "stream",
     "text": [
      "\r",
      "0it [00:00, ?it/s]"
     ]
    },
    {
     "name": "stdout",
     "output_type": "stream",
     "text": [
      "Downloading http://yann.lecun.com/exdb/mnist/train-images-idx3-ubyte.gz to ../data/MNIST/raw/train-images-idx3-ubyte.gz\n"
     ]
    },
    {
     "name": "stderr",
     "output_type": "stream",
     "text": [
      "9920512it [00:06, 1613685.41it/s]                             \n"
     ]
    },
    {
     "name": "stdout",
     "output_type": "stream",
     "text": [
      "Extracting ../data/MNIST/raw/train-images-idx3-ubyte.gz\n"
     ]
    },
    {
     "name": "stderr",
     "output_type": "stream",
     "text": [
      "32768it [00:00, 231921.81it/s]           \n",
      "0it [00:00, ?it/s]"
     ]
    },
    {
     "name": "stdout",
     "output_type": "stream",
     "text": [
      "Downloading http://yann.lecun.com/exdb/mnist/train-labels-idx1-ubyte.gz to ../data/MNIST/raw/train-labels-idx1-ubyte.gz\n",
      "Extracting ../data/MNIST/raw/train-labels-idx1-ubyte.gz\n",
      "Downloading http://yann.lecun.com/exdb/mnist/t10k-images-idx3-ubyte.gz to ../data/MNIST/raw/t10k-images-idx3-ubyte.gz\n"
     ]
    },
    {
     "name": "stderr",
     "output_type": "stream",
     "text": [
      "1654784it [00:01, 889908.99it/s]                              \n",
      "0it [00:00, ?it/s]"
     ]
    },
    {
     "name": "stdout",
     "output_type": "stream",
     "text": [
      "Extracting ../data/MNIST/raw/t10k-images-idx3-ubyte.gz\n",
      "Downloading http://yann.lecun.com/exdb/mnist/t10k-labels-idx1-ubyte.gz to ../data/MNIST/raw/t10k-labels-idx1-ubyte.gz\n"
     ]
    },
    {
     "name": "stderr",
     "output_type": "stream",
     "text": [
      "8192it [00:00, 38559.27it/s]            \n"
     ]
    },
    {
     "name": "stdout",
     "output_type": "stream",
     "text": [
      "Extracting ../data/MNIST/raw/t10k-labels-idx1-ubyte.gz\n",
      "Processing...\n",
      "Done!\n",
      "\n",
      "ColLocScaleMNIST\n",
      "TRAIN\n",
      "0\n",
      "1000\n",
      "2000\n",
      "3000\n",
      "4000\n",
      "5000\n",
      "6000\n",
      "7000\n",
      "8000\n",
      "9000\n",
      "10000\n",
      "11000\n",
      "12000\n",
      "13000\n",
      "14000\n",
      "15000\n",
      "16000\n",
      "17000\n",
      "18000\n",
      "19000\n",
      "20000\n",
      "21000\n",
      "22000\n",
      "23000\n",
      "24000\n",
      "25000\n",
      "26000\n",
      "27000\n",
      "28000\n",
      "29000\n",
      "30000\n",
      "31000\n",
      "32000\n",
      "33000\n"
     ]
    }
   ],
   "source": [
    "import os\n",
    "os.chdir(\"../\")\n",
    "import torchvision.datasets\n",
    "from torchvision import transforms\n",
    "import numpy as np\n",
    "import os\n",
    "import torch\n",
    "import torch.utils.data as utils\n",
    "import errno\n",
    "\n",
    "\n",
    "def mkdir_p(path):\n",
    "    try:\n",
    "        os.makedirs(path)\n",
    "    except OSError as exc:  # Python >2.5\n",
    "        if exc.errno == errno.EEXIST and os.path.isdir(path):\n",
    "            pass\n",
    "        else:\n",
    "            raise\n",
    "\n",
    "\n",
    "def get_kwargs(use_cuda):\n",
    "    return {'num_workers': 1, 'pin_memory': True} if use_cuda else {}\n",
    "\n",
    "\n",
    "training_file = 'training.pt'\n",
    "test_file = 'test.pt'\n",
    "batch_size = 1\n",
    "in_path = '../data'\n",
    "color_indices = np.arange(10)\n",
    "\n",
    "\n",
    "train_loader = torch.utils.data.DataLoader(\n",
    "    torchvision.datasets.MNIST('../data', train=True, download=True,\n",
    "                   transform=transforms.ToTensor()),\n",
    "    batch_size=batch_size)\n",
    "test_loader = torch.utils.data.DataLoader(\n",
    "    torchvision.datasets.MNIST('../data', train=False, transform=transforms.ToTensor()),\n",
    "    batch_size=batch_size)\n",
    "\n",
    "for dataset, dataset_name, dataset_size, out_size in \\\n",
    "    [\n",
    "        (None, \"ColLocScaleMNIST\", 9, 1),\n",
    "        # (datasets.colored_location_dataset.LeftOutColoredLocationMNIST, \"LeftOutColoredLocationMNIST\", 9, 3),\n",
    "        # (datasets.colored_dataset.LeftOutColoredMNIST, \"LeftOutColoredMNIST\", 10),\n",
    "        # (datasets.varied_location_dataset.LeftOutVariedLocationMNIST, \"LeftOutVariedLocationMNIST\", 9, 2),\n",
    "        # (datasets.scale_dataset.LeftOutScaleMNIST, \"LeftOutScaleMNIST\", 3, 2)\n",
    "    ]:\n",
    "    print(\"\\n\" + dataset_name)\n",
    "\n",
    "    out_path = \"../data/\" + dataset_name + \"/processed\"\n",
    "    mkdir_p(out_path)\n",
    "\n",
    "    # Train\n",
    "    print(\"TRAIN\")\n",
    "    train_data_out = torch.empty((0, 1, 28, 28))\n",
    "    train_label_out = torch.empty((0,), dtype=torch.int64)\n",
    "    for batch_idx, (data, target) in enumerate(train_loader):\n",
    "        if batch_idx % 1000 == 0:\n",
    "            print(batch_idx)\n",
    "#         print(train_data_out.shape, data.shape)\n",
    "        if target.item == 9:\n",
    "            continue\n",
    "        train_data_out = torch.cat((train_data_out, data), dim=0)\n",
    "        train_label_out = torch.cat((train_label_out, target), dim=0)\n",
    "\n",
    "    print(train_data_out.shape)\n",
    "    with open(os.path.join(out_path, training_file), 'wb') as f:\n",
    "        torch.save((train_data_out.numpy(), train_label_out.numpy()), f)\n",
    "\n",
    "    # Test\n",
    "    print(\"TEST\")\n",
    "    test_data_out = torch.empty((0, 1, 28, 28))\n",
    "    test_label_out = torch.empty((0,), dtype=torch.int64)\n",
    "    for batch_idx, (data, target) in enumerate(test_loader):\n",
    "        if batch_idx % 1000 == 0:\n",
    "            print(batch_idx)\n",
    "        if target.item == 9:\n",
    "            continue\n",
    "        test_data_out = torch.cat((test_data_out, data), dim=0)\n",
    "        test_label_out = torch.cat((test_label_out, target), dim=0)\n",
    "\n",
    "    print(test_data_out.shape)\n",
    "    with open(os.path.join(out_path, test_file), 'wb') as f:\n",
    "        torch.save((test_data_out.numpy(), test_label_out.numpy()), f)\n"
   ]
  },
  {
   "cell_type": "code",
   "execution_count": null,
   "metadata": {},
   "outputs": [],
   "source": []
  },
  {
   "cell_type": "code",
   "execution_count": null,
   "metadata": {},
   "outputs": [],
   "source": []
  }
 ],
 "metadata": {
  "kernelspec": {
   "display_name": "Python 3",
   "language": "python",
   "name": "python3"
  },
  "language_info": {
   "codemirror_mode": {
    "name": "ipython",
    "version": 3
   },
   "file_extension": ".py",
   "mimetype": "text/x-python",
   "name": "python",
   "nbconvert_exporter": "python",
   "pygments_lexer": "ipython3",
   "version": "3.7.4"
  }
 },
 "nbformat": 4,
 "nbformat_minor": 2
}
