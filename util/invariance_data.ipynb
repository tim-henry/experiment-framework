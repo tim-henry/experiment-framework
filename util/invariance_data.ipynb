{
 "cells": [
  {
   "cell_type": "code",
   "execution_count": 1,
   "metadata": {},
   "outputs": [],
   "source": [
    "import os\n",
    "os.chdir(\"../\")\n",
    "import config.input\n",
    "import numpy as np\n",
    "from PIL import Image\n",
    "from mpl_toolkits.mplot3d import Axes3D\n",
    "import matplotlib.pyplot as plt"
   ]
  },
  {
   "cell_type": "code",
   "execution_count": 6,
   "metadata": {},
   "outputs": [],
   "source": [
    "# dataset_name = \"left_out_varied_location_mnist\"\n",
    "dataset_name = \"left_out_many_scale_mnist\"\n",
    "dataset_size = 9\n",
    "\n",
    "train_loader_fn, test_loader_fn = config.input.options[dataset_name]\n",
    "        \n",
    "args = {\n",
    "    \"batch_size\": 1,\n",
    "    \"test_batch_size\": 1,\n",
    "    \"use_cuda\": False,\n",
    "    \"keep_pct\": 2 , \n",
    "    \"color_indices\": np.arange(dataset_size),\n",
    "    \"example_pct\": 1,\n",
    "}"
   ]
  },
  {
   "cell_type": "code",
   "execution_count": 7,
   "metadata": {},
   "outputs": [],
   "source": [
    "mask = np.zeros((2, 9, 10, 9), dtype=bool)\n",
    "out = np.zeros((2, 9, 10, 9, 32, 32, 3))"
   ]
  },
  {
   "cell_type": "code",
   "execution_count": 8,
   "metadata": {},
   "outputs": [
    {
     "name": "stdout",
     "output_type": "stream",
     "text": [
      "INIT\n",
      "/Users/timhenry/Documents/mit/meng/src/../data/synth/LeftOutManyScaleMNIST/9\n",
      "ROOT: ../data/synth/LeftOutManyScaleMNIST/9\n",
      "np all, before: False\n",
      "np all, after: True\n"
     ]
    }
   ],
   "source": [
    "test_loader = test_loader_fn(args)\n",
    "\n",
    "print(\"np all, before:\", np.all(mask))\n",
    "for _, (data, target) in enumerate(test_loader):\n",
    "    num, col = target[0]\n",
    "    i = num.item()\n",
    "    j = col.item()\n",
    "    data = np.moveaxis(data.numpy(), 1, -1)\n",
    "    for c in range(10):\n",
    "        if not mask[0, i, c, j]:\n",
    "            mask[0, i, c, j] = True\n",
    "            mask[1, j, c, i] = True\n",
    "            out[0, i, c, j] = data\n",
    "            out[1, j, c, i] = data\n",
    "            break\n",
    "print(\"np all, after:\", np.all(mask))\n",
    "        "
   ]
  },
  {
   "cell_type": "code",
   "execution_count": 9,
   "metadata": {},
   "outputs": [],
   "source": [
    "np.save(\"invariance_\" + dataset_name, out)"
   ]
  },
  {
   "cell_type": "code",
   "execution_count": null,
   "metadata": {},
   "outputs": [],
   "source": []
  },
  {
   "cell_type": "code",
   "execution_count": null,
   "metadata": {},
   "outputs": [],
   "source": []
  },
  {
   "cell_type": "code",
   "execution_count": null,
   "metadata": {},
   "outputs": [],
   "source": []
  }
 ],
 "metadata": {
  "kernelspec": {
   "display_name": "Python 3",
   "language": "python",
   "name": "python3"
  },
  "language_info": {
   "codemirror_mode": {
    "name": "ipython",
    "version": 3
   },
   "file_extension": ".py",
   "mimetype": "text/x-python",
   "name": "python",
   "nbconvert_exporter": "python",
   "pygments_lexer": "ipython3",
   "version": "3.7.4"
  }
 },
 "nbformat": 4,
 "nbformat_minor": 2
}
